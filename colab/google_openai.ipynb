{
 "cells": [
  {
   "cell_type": "code",
   "execution_count": null,
   "metadata": {},
   "outputs": [],
   "source": [
    "!pip install --quiet langchain\n",
    "!pip install --quiet langchain-google-genai"
   ]
  },
  {
   "cell_type": "code",
   "execution_count": 13,
   "metadata": {},
   "outputs": [],
   "source": [
    "# SystemMessage : AI에게 상황을 지정하거나 역활 부여 - 페르소나 , Hummesage가 같아도 상황이 다르면 다른 메시지로 인식함 \n",
    "# HumanMessage : 사용자 입력 메시지, 질문 전달 \n",
    "# AIMessage: AI 답변 메시지 \n",
    "\n",
    "from langchain_core.messages import HumanMessage, SystemMessage\n",
    "from langchain_google_genai import ChatGoogleGenerativeAI"
   ]
  },
  {
   "cell_type": "markdown",
   "metadata": {},
   "source": [
    "## 환경 변수 조회 "
   ]
  },
  {
   "cell_type": "code",
   "execution_count": 21,
   "metadata": {},
   "outputs": [],
   "source": [
    "## Local 에서 수행시에는 API 키 정보 로드 및 환경 변수에서 값을 불러옴 \n",
    "from dotenv import load_dotenv\n",
    "import os\n",
    "\n",
    "load_dotenv()\n",
    "GOOGLE_API_KEY=os.getenv(\"GOOGLE_API_KEY\")"
   ]
  },
  {
   "cell_type": "code",
   "execution_count": 22,
   "metadata": {},
   "outputs": [],
   "source": [
    "# colab 에서 사용시 아래 코드를 사용하여 GOOGLE_API_KEY 를 설정해주세요.\n",
    "# from google.colab import userdata\n",
    "# GOOGLE_API_KEY=userdata.get('GOOGLE_API_KEY')"
   ]
  },
  {
   "cell_type": "code",
   "execution_count": 24,
   "metadata": {},
   "outputs": [
    {
     "name": "stdout",
     "output_type": "stream",
     "text": [
      "식물학적으로는 토마토는 과일입니다.\n",
      "\n",
      "과일은 씨를 둘러싼 암술의 숙성된 씨방입니다. 토마토는 여러 개의 씨를 둘러싸고 있으며 암술이 발달하여 형성된 것입니다. 따라서 식물학적 정의에 따르면 토마토는 과일로 분류됩니다.\n",
      "\n",
      "그러나 일상생활에서는 토마토를 일반적으로 야채로 간주합니다. 이는 다음과 같은 요인에 기인합니다.\n",
      "\n",
      "* **맛:** 토마토는 일반적으로 달콤하지 않고 짭짤합니다.\n",
      "* **사용법:** 토마토는 일반적으로 요리, 샐러드, 샌드위치 등에 야채로 사용됩니다.\n",
      "* **문화적 관습:** 많은 문화권에서 토마토는 전통적으로 야채로 분류되어 왔습니다.\n",
      "\n",
      "따라서 식물학적으로는 과일이지만 일상생활에서는 일반적으로 야채로 간주됩니다.\n"
     ]
    }
   ],
   "source": [
    "model = ChatGoogleGenerativeAI(\n",
    "    model=\"gemini-pro\",  # 사용할 모델을 지정합니다.\n",
    "    convert_system_message_to_human=True,  # 시스템 메시지를 사람 메시지로 변환할지 여부를 설정합니다.\n",
    "    google_api_key=GOOGLE_API_KEY\n",
    ")\n",
    "\n",
    "chat_model_response = model.invoke(\n",
    "    [\n",
    "        # 시스템 메시지로 \"yes 또는 no로만 대답하세요.\"라는 내용을 전달합니다.\n",
    "        SystemMessage(content=\"당신은 농업 전문가입니다.\"),\n",
    "        # 사람 메시지로 \"사과는 과일인가요?\"라는 질문을 전달합니다.\n",
    "        HumanMessage(content=\"토마토는 과일인가요?\"),\n",
    "    ]\n",
    ")\n",
    "\n",
    "print(chat_model_response.content)"
   ]
  }
 ],
 "metadata": {
  "kernelspec": {
   "display_name": "llm",
   "language": "python",
   "name": "python3"
  },
  "language_info": {
   "codemirror_mode": {
    "name": "ipython",
    "version": 3
   },
   "file_extension": ".py",
   "mimetype": "text/x-python",
   "name": "python",
   "nbconvert_exporter": "python",
   "pygments_lexer": "ipython3",
   "version": "3.9.19"
  }
 },
 "nbformat": 4,
 "nbformat_minor": 2
}
