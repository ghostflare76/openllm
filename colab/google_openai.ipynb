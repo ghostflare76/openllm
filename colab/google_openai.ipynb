{
 "cells": [
  {
   "cell_type": "code",
   "execution_count": null,
   "metadata": {},
   "outputs": [],
   "source": [
    "!pip install --quiet langchain\n",
    "!pip install --quiet langchain-google-genai"
   ]
  },
  {
   "cell_type": "code",
   "execution_count": 8,
   "metadata": {},
   "outputs": [],
   "source": [
    "# SystemMessage : AI에게 상황을 지정하거나 역활 부여 - 페르소나 , Hummesage가 같아도 상황이 다르면 다른 메시지로 인식함 \n",
    "# HumanMessage : 사용자 입력 메시지, 질문 전달 \n",
    "# AIMessage: AI 답변 메시지 \n",
    "\n",
    "from langchain_core.messages import HumanMessage, SystemMessage\n",
    "from langchain_google_genai import ChatGoogleGenerativeAI"
   ]
  },
  {
   "cell_type": "markdown",
   "metadata": {},
   "source": [
    "## 환경 변수 조회 "
   ]
  },
  {
   "cell_type": "code",
   "execution_count": 2,
   "metadata": {},
   "outputs": [],
   "source": [
    "## Local 에서 수행시에는 API 키 정보 로드 및 환경 변수에서 값을 불러옴 \n",
    "from dotenv import load_dotenv\n",
    "import os\n",
    "\n",
    "load_dotenv()\n",
    "GOOGLE_API_KEY=os.getenv(\"GOOGLE_API_KEY\")\n"
   ]
  },
  {
   "cell_type": "code",
   "execution_count": 22,
   "metadata": {},
   "outputs": [],
   "source": [
    "# colab 에서 사용시 아래 코드를 사용하여 GOOGLE_API_KEY 를 설정해주세요.\n",
    "# from google.colab import userdata\n",
    "# GOOGLE_API_KEY=userdata.get('GOOGLE_API_KEY')"
   ]
  },
  {
   "cell_type": "code",
   "execution_count": 9,
   "metadata": {},
   "outputs": [
    {
     "name": "stdout",
     "output_type": "stream",
     "text": [
      "식물학적으로는 아니요.\n",
      "\n",
      "식물학적으로 토마토는 베리입니다. 베리는 씨방이 하나이고, 열매가 익을 때 씨방이 연한 과피로 둘러싸인 과일입니다.\n",
      "\n",
      "하지만 미국 대법원은 관세법 목적으로 토마토를 과일이 아닌 채소로 분류했습니다. 이 판결은 1893년에 내려졌으며, 토마토가 식물학적으로 과일이라는 사실에도 불구하고 여전히 유효합니다.\n"
     ]
    }
   ],
   "source": [
    "model = ChatGoogleGenerativeAI(\n",
    "    model=\"gemini-pro\",  # 사용할 모델을 지정합니다.\n",
    "    convert_system_message_to_human=True,  # 시스템 메시지를 사람 메시지로 변환할지 여부를 설정합니다.\n",
    "    google_api_key=GOOGLE_API_KEY\n",
    ")\n",
    "\n",
    "chat_model_response = model.invoke(\n",
    "    [\n",
    "        # 시스템 메시지로 \"yes 또는 no로만 대답하세요.\"라는 내용을 전달합니다.\n",
    "        SystemMessage(content=\"당신은 농업 전문가입니다.\"),\n",
    "        # 사람 메시지로 \"사과는 과일인가요?\"라는 질문을 전달합니다.\n",
    "        HumanMessage(content=\"토마토는 과일인가요? \"),\n",
    "    ]\n",
    ")\n",
    "\n",
    "\n",
    "print(chat_model_response.content)"
   ]
  },
  {
   "cell_type": "code",
   "execution_count": null,
   "metadata": {},
   "outputs": [],
   "source": []
  }
 ],
 "metadata": {
  "kernelspec": {
   "display_name": "llm",
   "language": "python",
   "name": "python3"
  },
  "language_info": {
   "codemirror_mode": {
    "name": "ipython",
    "version": 3
   },
   "file_extension": ".py",
   "mimetype": "text/x-python",
   "name": "python",
   "nbconvert_exporter": "python",
   "pygments_lexer": "ipython3",
   "version": "3.9.19"
  }
 },
 "nbformat": 4,
 "nbformat_minor": 2
}
