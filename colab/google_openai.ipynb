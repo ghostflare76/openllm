{
 "cells": [
  {
   "cell_type": "code",
   "execution_count": 10,
   "metadata": {},
   "outputs": [],
   "source": [
    "!pip install --upgrade --quiet langchain\n",
    "!pip install --upgrade --quiet langchain-google-genai"
   ]
  },
  {
   "cell_type": "code",
   "execution_count": 2,
   "metadata": {},
   "outputs": [],
   "source": [
    "# SystemMessage : AI에게 상황을 지정하거나 역활 부여 - 페르소나 , Hummesage가 같아도 상황이 다르면 다른 메시지로 인식함 \n",
    "# HumanMessage : 사용자 입력 메시지, 질문 전달 \n",
    "# AIMessage: AI 답변 메시지 \n",
    "\n",
    "from langchain_core.messages import HumanMessage, SystemMessage\n",
    "from langchain_google_genai import ChatGoogleGenerativeAI"
   ]
  },
  {
   "cell_type": "code",
   "execution_count": 5,
   "metadata": {},
   "outputs": [
    {
     "data": {
      "text/plain": [
       "True"
      ]
     },
     "execution_count": 5,
     "metadata": {},
     "output_type": "execute_result"
    }
   ],
   "source": [
    "from dotenv import load_dotenv\n",
    "\n",
    "# API 키 정보 로드\n",
    "load_dotenv()\n"
   ]
  },
  {
   "cell_type": "code",
   "execution_count": 7,
   "metadata": {},
   "outputs": [],
   "source": [
    "import os\n",
    "GOOGLE_API_KEY=os.getenv(\"GOOGLE_API_KEY\")"
   ]
  },
  {
   "cell_type": "code",
   "execution_count": 8,
   "metadata": {},
   "outputs": [
    {
     "name": "stdout",
     "output_type": "stream",
     "text": [
      "생물학적으로는 토마토가 과일입니다. 과일은 식물의 씨를 둘러싸고 있는 난소에서 자라는 식물체의 부분입니다. 토마토는 씨앗이 들어있는 과육질의 껍질을 가지고 있으므로 과학적으로 과일로 분류됩니다.\n",
      "\n",
      "그러나 미국 농업부(USDA)는 세금과 규제를 목적으로 토마토를 채소로 분류했습니다. 이 분류는 법적이고 상업적 목적에 의해 뒷받침됩니다.\n"
     ]
    }
   ],
   "source": [
    "model = ChatGoogleGenerativeAI(\n",
    "    model=\"gemini-pro\",  # 사용할 모델을 지정합니다.\n",
    "    convert_system_message_to_human=True,  # 시스템 메시지를 사람 메시지로 변환할지 여부를 설정합니다.\n",
    "    google_api_key=GOOGLE_API_KEY\n",
    ")\n",
    "\n",
    "chat_model_response = model.invoke(\n",
    "    [\n",
    "        # 시스템 메시지로 \"yes 또는 no로만 대답하세요.\"라는 내용을 전달합니다.\n",
    "        SystemMessage(content=\"당신은 농장에서 일하는  전문가입니다.\"),\n",
    "        # 사람 메시지로 \"사과는 과일인가요?\"라는 질문을 전달합니다.\n",
    "        HumanMessage(content=\"토마토는 과일인가요?\"),\n",
    "    ]\n",
    ")\n",
    "\n",
    "print(chat_model_response.content)"
   ]
  }
 ],
 "metadata": {
  "kernelspec": {
   "display_name": "llm",
   "language": "python",
   "name": "python3"
  },
  "language_info": {
   "codemirror_mode": {
    "name": "ipython",
    "version": 3
   },
   "file_extension": ".py",
   "mimetype": "text/x-python",
   "name": "python",
   "nbconvert_exporter": "python",
   "pygments_lexer": "ipython3",
   "version": "3.9.19"
  }
 },
 "nbformat": 4,
 "nbformat_minor": 2
}
