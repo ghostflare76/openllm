{
 "cells": [
  {
   "cell_type": "code",
   "execution_count": null,
   "metadata": {},
   "outputs": [],
   "source": []
  },
  {
   "cell_type": "markdown",
   "metadata": {},
   "source": [
    "## Cache"
   ]
  },
  {
   "cell_type": "code",
   "execution_count": 1,
   "metadata": {},
   "outputs": [],
   "source": [
    "from langchain.chains import LLMChain\n",
    "from langchain.prompts import PromptTemplate\n",
    "from langchain_community.llms import HuggingFaceEndpoint\n",
    "from langchain_core.messages import HumanMessage, SystemMessage\n",
    "from langchain.callbacks.streaming_stdout import StreamingStdOutCallbackHandler"
   ]
  },
  {
   "cell_type": "code",
   "execution_count": 2,
   "metadata": {},
   "outputs": [
    {
     "data": {
      "text/plain": [
       "True"
      ]
     },
     "execution_count": 2,
     "metadata": {},
     "output_type": "execute_result"
    }
   ],
   "source": [
    "from dotenv import load_dotenv\n",
    "\n",
    "# 토큰 정보로드\n",
    "load_dotenv()"
   ]
  },
  {
   "cell_type": "code",
   "execution_count": 73,
   "metadata": {},
   "outputs": [],
   "source": [
    "# 프롬프트 템플릿 생성\n",
    "template=\"{question}를 이용해서 만들수 있는 음식은 어떤 것이 있나요? \"\n",
    "prompt = PromptTemplate.from_template(template)"
   ]
  },
  {
   "cell_type": "code",
   "execution_count": 67,
   "metadata": {},
   "outputs": [
    {
     "name": "stdout",
     "output_type": "stream",
     "text": [
      "Token will not been saved to git credential helper. Pass `add_to_git_credential=True` if you want to set the git credential as well.\n",
      "Token is valid (permission: read).\n",
      "Your token has been saved to C:\\Users\\cowbo\\.cache\\huggingface\\token\n",
      "Login successful\n"
     ]
    }
   ],
   "source": [
    "# HuggingFaceHub 객체 생성\n",
    "llm = HuggingFaceEndpoint(\n",
    "    repo_id = \"mistralai/Mixtral-8x7B-Instruct-v0.1\",  # 모델 저장소 ID를 지정합니다.\n",
    "    max_new_tokens=512,  \n",
    "    temperature=0.01, # 샘플링 온도를 설정합니다. 값이 높을수록 더 다양한 출력을 생성합니다.\n",
    "   # callbacks=[StreamingStdOutCallbackHandler()],  # 콜백을 설정합니다.\n",
    "    streaming=False,  # 스트리밍을 사용합니다.\n",
    ")\n"
   ]
  },
  {
   "cell_type": "code",
   "execution_count": 74,
   "metadata": {},
   "outputs": [],
   "source": [
    "chain = LLMChain(prompt=prompt, llm=llm)"
   ]
  },
  {
   "cell_type": "code",
   "execution_count": 75,
   "metadata": {},
   "outputs": [
    {
     "name": "stdout",
     "output_type": "stream",
     "text": [
      "우유는 다양한 음식에서 중요한 재료로 사용되고 있습니다. 우유는 우리 몸에 좋은 영양소를 제공하며, 또한 다양한 음식에서 탄산성, 바삭함, 부드러움 등을 더해줍니다. 그래서 우유는 우리 일상의 다양한 음식에서 중요한 재료가 되고 있습니다.\n",
      "\n",
      "우유는 우리가 흔히 생각하는 것처럼 우유만 사용하는 것이 아니라, 우유와 함께 혼합하여 만드는 음식도 있습니다. 예를 들어, 우유와 바닐라를 혼합하여 만드는 바닐라 우유, 우유와 초콜릿을 혼합하여 만드는 초콜릿 우유, 우유와 과일을 혼합하여 만드는 과일 우유 등이 있습니다.\n",
      "\n",
      "또한, 우유는 빵과 요거트, 치즈, 아이스크림, 케이크, 파이, 샐러드, 스무디, 커피, 차, 쥬스 등 다양한 음식에서 사용되고 있습니다. 이러한 음식들은 우유가 없으면 제작하기 어려운 음식들입니다.\n",
      "\n",
      "그래서, 우유는 우리 일상의 다양한 음식에서 중요한 재료가 되고 있으며, 우리는 더 많은 음식을 만들어 먹을 \n",
      "CPU times: total: 0 ns\n",
      "Wall time: 18.9 s\n"
     ]
    }
   ],
   "source": [
    "%%time\n",
    "response = chain.run(question=\"우유\")\n",
    "print(response)"
   ]
  },
  {
   "cell_type": "code",
   "execution_count": 76,
   "metadata": {},
   "outputs": [],
   "source": [
    "from langchain.cache import SQLiteCache\n",
    "from langchain.globals import set_llm_cache\n",
    "\n",
    "set_llm_cache(SQLiteCache(database_path=\"my_llm_cache.db\"))"
   ]
  },
  {
   "cell_type": "code",
   "execution_count": 77,
   "metadata": {},
   "outputs": [
    {
     "name": "stdout",
     "output_type": "stream",
     "text": [
      "우유는 다양한 음식에서 중요한 재료로 사용되고 있습니다. 우유는 우리 몸에 좋은 영양소를 제공하며, 또한 다양한 음식에서 탄산성, 바삭함, 부드러움 등을 더해줍니다. 그래서 우유는 우리 일상의 다양한 음식에서 중요한 재료가 되고 있습니다.\n",
      "\n",
      "우유는 우리가 흔히 생각하는 것처럼 우유만 사용하는 것이 아니라, 우유와 함께 혼합하여 만드는 음식도 있습니다. 예를 들어, 우유와 바닐라를 혼합하여 만드는 바닐라 우유, 우유와 초콜릿을 혼합하여 만드는 초콜릿 우유, 우유와 과일을 혼합하여 만드는 과일 우유 등이 있습니다.\n",
      "\n",
      "또한, 우유는 빵과 요거트, 치즈, 아이스크림, 케이크, 파이, 샐러드, 스무디, 커피, 차, 쥬스 등 다양한 음식에서 사용되고 있습니다. 이러한 음식들은 우유가 없으면 제작하기 어려운 음식들입니다.\n",
      "\n",
      "그래서, 우유는 우리 일상의 다양한 음식에서 중요한 재료가 되고 있으며, 우리는 더 많은 음식을 만들어 먹을 \n",
      "CPU times: total: 0 ns\n",
      "Wall time: 4 ms\n"
     ]
    }
   ],
   "source": [
    "%%time\n",
    "response = chain.run(question=\"우유\")\n",
    "print(response)"
   ]
  },
  {
   "cell_type": "markdown",
   "metadata": {},
   "source": [
    "## Model Serialize"
   ]
  },
  {
   "cell_type": "code",
   "execution_count": 31,
   "metadata": {},
   "outputs": [],
   "source": [
    "from langchain.llms.loading import load_llm"
   ]
  },
  {
   "cell_type": "code",
   "execution_count": 78,
   "metadata": {},
   "outputs": [
    {
     "data": {
      "text/plain": [
       "True"
      ]
     },
     "execution_count": 78,
     "metadata": {},
     "output_type": "execute_result"
    }
   ],
   "source": [
    "chain.is_lc_serializable()"
   ]
  },
  {
   "cell_type": "markdown",
   "metadata": {},
   "source": [
    "## Dumped (Json)"
   ]
  },
  {
   "cell_type": "code",
   "execution_count": 79,
   "metadata": {},
   "outputs": [
    {
     "data": {
      "text/plain": [
       "{'lc': 1,\n",
       " 'type': 'constructor',\n",
       " 'id': ['langchain', 'chains', 'llm', 'LLMChain'],\n",
       " 'kwargs': {'prompt': {'lc': 1,\n",
       "   'type': 'constructor',\n",
       "   'id': ['langchain', 'prompts', 'prompt', 'PromptTemplate'],\n",
       "   'kwargs': {'input_variables': ['question'],\n",
       "    'template': '{question}를 이용해서 만들수 있는 음식은 어떤 것이 있나요? ',\n",
       "    'template_format': 'f-string',\n",
       "    'partial_variables': {}},\n",
       "   'name': 'PromptTemplate',\n",
       "   'graph': {'nodes': [{'id': 0, 'type': 'schema', 'data': 'PromptInput'},\n",
       "     {'id': 1,\n",
       "      'type': 'runnable',\n",
       "      'data': {'id': ['langchain', 'prompts', 'prompt', 'PromptTemplate'],\n",
       "       'name': 'PromptTemplate'}},\n",
       "     {'id': 2, 'type': 'schema', 'data': 'PromptTemplateOutput'}],\n",
       "    'edges': [{'source': 0, 'target': 1}, {'source': 1, 'target': 2}]}},\n",
       "  'llm': {'lc': 1,\n",
       "   'type': 'not_implemented',\n",
       "   'id': ['langchain_community',\n",
       "    'llms',\n",
       "    'huggingface_endpoint',\n",
       "    'HuggingFaceEndpoint'],\n",
       "   'repr': \"HuggingFaceEndpoint(repo_id='mistralai/Mixtral-8x7B-Instruct-v0.1', temperature=0.01, model='mistralai/Mixtral-8x7B-Instruct-v0.1', client=<InferenceClient(model='mistralai/Mixtral-8x7B-Instruct-v0.1', timeout=120)>, async_client=<InferenceClient(model='mistralai/Mixtral-8x7B-Instruct-v0.1', timeout=120)>)\",\n",
       "   'name': 'HuggingFaceEndpoint',\n",
       "   'graph': {'nodes': [{'id': 0,\n",
       "      'type': 'schema',\n",
       "      'data': 'HuggingFaceEndpointInput'},\n",
       "     {'id': 1,\n",
       "      'type': 'runnable',\n",
       "      'data': {'id': ['langchain_community',\n",
       "        'llms',\n",
       "        'huggingface_endpoint',\n",
       "        'HuggingFaceEndpoint'],\n",
       "       'name': 'HuggingFaceEndpoint'}},\n",
       "     {'id': 2, 'type': 'schema', 'data': 'HuggingFaceEndpointOutput'}],\n",
       "    'edges': [{'source': 0, 'target': 1}, {'source': 1, 'target': 2}]}}},\n",
       " 'name': 'LLMChain',\n",
       " 'graph': {'nodes': [{'id': 0, 'type': 'schema', 'data': 'ChainInput'},\n",
       "   {'id': 1,\n",
       "    'type': 'runnable',\n",
       "    'data': {'id': ['langchain', 'chains', 'llm', 'LLMChain'],\n",
       "     'name': 'LLMChain'}},\n",
       "   {'id': 2, 'type': 'schema', 'data': 'ChainOutput'}],\n",
       "  'edges': [{'source': 0, 'target': 1}, {'source': 1, 'target': 2}]}}"
      ]
     },
     "execution_count": 79,
     "metadata": {},
     "output_type": "execute_result"
    }
   ],
   "source": [
    "from langchain.load import dumpd\n",
    "\n",
    "dumped_chain = dumpd(chain)\n",
    "dumped_chain"
   ]
  },
  {
   "cell_type": "code",
   "execution_count": 80,
   "metadata": {},
   "outputs": [],
   "source": [
    "import pickle\n",
    "\n",
    "# model_paper_summary.pkl 파일로 직렬화된 체인을 저장합니다.\n",
    "with open(\"recipe_model.pkl\", \"wb\") as f:\n",
    "    pickle.dump(dumped_chain, f)"
   ]
  },
  {
   "cell_type": "markdown",
   "metadata": {},
   "source": [
    "## Prompt Serialize"
   ]
  },
  {
   "cell_type": "code",
   "execution_count": 81,
   "metadata": {},
   "outputs": [],
   "source": [
    "prompt.save(\"receipe_model.json\")\n"
   ]
  },
  {
   "cell_type": "code",
   "execution_count": 83,
   "metadata": {},
   "outputs": [
    {
     "name": "stdout",
     "output_type": "stream",
     "text": [
      "커피를 이용해서 만들수 있는 음식은 어떤 것이 있나요? \n"
     ]
    }
   ],
   "source": [
    "from langchain.prompts import load_prompt\n",
    "\n",
    "loaded_template = load_prompt(\"receipe_model.json\")\n",
    "prompt = loaded_template.format(question=\"커피\")\n",
    "print(prompt)\n"
   ]
  },
  {
   "cell_type": "code",
   "execution_count": null,
   "metadata": {},
   "outputs": [],
   "source": []
  }
 ],
 "metadata": {
  "kernelspec": {
   "display_name": "llm",
   "language": "python",
   "name": "python3"
  },
  "language_info": {
   "codemirror_mode": {
    "name": "ipython",
    "version": 3
   },
   "file_extension": ".py",
   "mimetype": "text/x-python",
   "name": "python",
   "nbconvert_exporter": "python",
   "pygments_lexer": "ipython3",
   "version": "3.9.19"
  }
 },
 "nbformat": 4,
 "nbformat_minor": 2
}
