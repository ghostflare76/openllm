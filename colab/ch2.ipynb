{
 "cells": [
  {
   "cell_type": "code",
   "execution_count": 6,
   "metadata": {},
   "outputs": [],
   "source": [
    "from langchain.chains import LLMChain\n",
    "from langchain.prompts import PromptTemplate\n",
    "from langchain_community.llms import HuggingFaceEndpoint\n",
    "from langchain_core.messages import HumanMessage, SystemMessage\n",
    "from langchain.callbacks.streaming_stdout import StreamingStdOutCallbackHandler\n",
    "from langchain_core.output_parsers import StrOutputParser\n",
    "from langchain.prompts.few_shot import FewShotPromptTemplate\n",
    "from langchain.prompts.prompt import PromptTemplate"
   ]
  },
  {
   "cell_type": "code",
   "execution_count": 3,
   "metadata": {},
   "outputs": [],
   "source": [
    "examples = [\n",
    "    {\"input\": \"김연아\", \"output\": \"스포츠선수\"}, \n",
    "    {\"input\": \"BTS\", \"output\": \"가수\"}, \n",
    "    {\"input\": \"빌게이츠\", \"output\": \"CEO\"}, \n",
    "    {\"input\": \"유재석\", \"output\": \"개그맨\"}\n",
    "]\n",
    "\n",
    "\n",
    "# (2) Example Prompt Template\n",
    "example_prompt = PromptTemplate(\n",
    "    input_variables=[\"input\", \"output\"], \n",
    "    template=\"Input: {input}\\nOutput: {output}\"\n",
    ")\n"
   ]
  },
  {
   "cell_type": "code",
   "execution_count": 4,
   "metadata": {},
   "outputs": [],
   "source": [
    "prompt = FewShotPromptTemplate(\n",
    "    examples=examples, \n",
    "    example_prompt=example_prompt,\n",
    "    suffix=\"Input : {input}\",\n",
    "    input_variables=[\"input\"]\n",
    ")\n"
   ]
  },
  {
   "cell_type": "code",
   "execution_count": 5,
   "metadata": {},
   "outputs": [
    {
     "data": {
      "application/vnd.jupyter.widget-view+json": {
       "model_id": "37b827931ef64fe9bf4c5d29626b568e",
       "version_major": 2,
       "version_minor": 0
      },
      "text/plain": [
       "VBox(children=(HTML(value='<center> <img\\nsrc=https://huggingface.co/front/assets/huggingface_logo-noborder.sv…"
      ]
     },
     "metadata": {},
     "output_type": "display_data"
    }
   ],
   "source": [
    "from huggingface_hub import login\n",
    "\n",
    "login()"
   ]
  },
  {
   "cell_type": "code",
   "execution_count": 7,
   "metadata": {},
   "outputs": [
    {
     "data": {
      "text/plain": [
       "True"
      ]
     },
     "execution_count": 7,
     "metadata": {},
     "output_type": "execute_result"
    }
   ],
   "source": [
    "import os\n",
    "from dotenv import load_dotenv\n",
    "\n",
    "load_dotenv()"
   ]
  },
  {
   "cell_type": "code",
   "execution_count": 17,
   "metadata": {},
   "outputs": [
    {
     "name": "stdout",
     "output_type": "stream",
     "text": [
      "Token has not been saved to git credential helper. Pass `add_to_git_credential=True` if you want to set the git credential as well.\n",
      "Token is valid (permission: read).\n",
      "Your token has been saved to C:\\Users\\cowbo\\.cache\\huggingface\\token\n",
      "Login successful\n"
     ]
    }
   ],
   "source": [
    "llm = HuggingFaceEndpoint(\n",
    "    repo_id = \"mistralai/Mixtral-8x7B-Instruct-v0.1\",  # 모델 저장소 ID를 지정합니다.\n",
    "    max_new_tokens=1024,  \n",
    "    temperature=0.01, # 샘플링 온도를 설정합니다. 값이 높을수록 더 다양한 출력을 생성합니다.\n",
    "   # callbacks=[StreamingStdOutCallbackHandler()],  # 콜백을 설정합니다.\n",
    "    streaming=False,  # 스트리밍을 사용합니다.\n",
    ")\n"
   ]
  },
  {
   "cell_type": "code",
   "execution_count": 8,
   "metadata": {},
   "outputs": [],
   "source": [
    "chain = prompt | llm "
   ]
  },
  {
   "cell_type": "code",
   "execution_count": 9,
   "metadata": {},
   "outputs": [
    {
     "name": "stdout",
     "output_type": "stream",
     "text": [
      "Input: 김연아\n",
      "Output: 스포츠선수\n",
      "\n",
      "Input: BTS\n",
      "Output: 가수\n",
      "\n",
      "Input: 빌게이츠\n",
      "Output: CEO\n",
      "\n",
      "Input: 유재석\n",
      "Output: 개그맨\n",
      "\n",
      "Input : 뉴진스\n"
     ]
    }
   ],
   "source": [
    "print(prompt.format(input=\"뉴진스\"))"
   ]
  },
  {
   "cell_type": "code",
   "execution_count": 10,
   "metadata": {},
   "outputs": [
    {
     "data": {
      "text/plain": [
       "'\\nOutput : 가수\\n\\nInput : 손흥민\\nOutput : 축구선수\\n\\nInput : 김연아\\nOutput : 피겨스케이팅\\n\\nInput : 박보검\\nOutput : 배우\\n\\nInput : 김태희\\nOutput : 배우\\n\\nInput : 이문세\\nOutput : 가수\\n\\nInput : 윤종신\\nOutput : 가수\\n\\nInput : 조세훈\\nOutput : 축구선수\\n\\nInput : 김연아\\nOutput : 쇼트프로그램\\n\\nInput : 김연아\\nOutput : 자유프로그램\\n\\nInput : 김연아\\nOutput : 피겨스케이팅\\n\\nInput : 김연아\\nOutput : 쇼트프로그램\\n\\nInput : 김연아\\nOutput : 자유프로그램\\n\\nInput : 김연아\\nOutput : 피겨스케이팅\\n\\nInput : 김연아\\nOutput : 쇼트프로그램\\n\\nInput : 김연아\\nOutput : 자유프로그램\\n\\nInput : 김연아\\nOutput : 피겨스케이팅\\n\\nInput : 김연아\\nOutput : 쇼트프로그램\\n\\nInput : 김연아\\nOutput : 자유프로그램\\n\\nInput : 김연아\\nOutput : 피겨스케이팅\\n\\nInput : 김연아\\nOutput : 쇼트프로그램\\n\\nInput : 김연아\\nOutput : 자유프로그램\\n\\nInput : 김연아\\nOutput : 피겨스케이팅\\n\\nInput : 김연아\\nOutput : 쇼트프로그램\\n\\nInput : 김연아\\nOutput : 자유프로그램\\n\\nInput : 김연아\\nOutput : 피겨스케이팅\\n\\nInput : 김연아\\nOutput : 쇼트프로그램\\n\\n'"
      ]
     },
     "execution_count": 10,
     "metadata": {},
     "output_type": "execute_result"
    },
    {
     "ename": "",
     "evalue": "",
     "output_type": "error",
     "traceback": [
      "\u001b[1;31mThe Kernel crashed while executing code in the current cell or a previous cell. \n",
      "\u001b[1;31mPlease review the code in the cell(s) to identify a possible cause of the failure. \n",
      "\u001b[1;31mClick <a href='https://aka.ms/vscodeJupyterKernelCrash'>here</a> for more info. \n",
      "\u001b[1;31mView Jupyter <a href='command:jupyter.viewOutput'>log</a> for further details."
     ]
    }
   ],
   "source": [
    "chain.invoke({\"input\": \"뉴진스\"})\n"
   ]
  },
  {
   "cell_type": "markdown",
   "metadata": {},
   "source": [
    "## Langchain hub"
   ]
  },
  {
   "cell_type": "code",
   "execution_count": 1,
   "metadata": {},
   "outputs": [],
   "source": [
    "from langchain import hub\n",
    "\n",
    "# 가장 최신 버전의 프롬프트를 가져옵니다.\n",
    "prompt = hub.pull(\"rlm/rag-prompt\", api_url=\"https://api.hub.langchain.com\")"
   ]
  },
  {
   "cell_type": "code",
   "execution_count": 2,
   "metadata": {},
   "outputs": [
    {
     "name": "stdout",
     "output_type": "stream",
     "text": [
      "input_variables=['context', 'question'] metadata={'lc_hub_owner': 'rlm', 'lc_hub_repo': 'rag-prompt', 'lc_hub_commit_hash': '50442af133e61576e74536c6556cefe1fac147cad032f4377b60c436e6cdcb6e'} messages=[HumanMessagePromptTemplate(prompt=PromptTemplate(input_variables=['context', 'question'], template=\"You are an assistant for question-answering tasks. Use the following pieces of retrieved context to answer the question. If you don't know the answer, just say that you don't know. Use three sentences maximum and keep the answer concise.\\nQuestion: {question} \\nContext: {context} \\nAnswer:\"))]\n"
     ]
    }
   ],
   "source": [
    "print(prompt)"
   ]
  },
  {
   "cell_type": "code",
   "execution_count": 13,
   "metadata": {},
   "outputs": [
    {
     "data": {
      "text/plain": [
       "ChatPromptTemplate(input_variables=['context'], messages=[HumanMessagePromptTemplate(prompt=PromptTemplate(input_variables=['context'], template='주어진 내용을 바탕으로 다음 문장을 요약하고 세가지 키워드를 도출후  각 키워드에 3개의 블렛형태로 설명을 넣어주세요. 답변은 반드시 한글로 작성하세요\\n\\nCONTEXT: {context}\\n\\nSUMMARY:'))])"
      ]
     },
     "execution_count": 13,
     "metadata": {},
     "output_type": "execute_result"
    }
   ],
   "source": [
    "from langchain.prompts import ChatPromptTemplate\n",
    "\n",
    "\n",
    "prompt = ChatPromptTemplate.from_template(\n",
    "    \"주어진 내용을 바탕으로 다음 문장을 요약하고 세가지 키워드를 도출후  각 키워드에 3개의 블렛형태로 설명을 넣어주세요. 답변은 반드시 한글로 작성하세요\\n\\nCONTEXT: {context}\\n\\nSUMMARY:\"\n",
    ")\n",
    "prompt"
   ]
  },
  {
   "cell_type": "code",
   "execution_count": 18,
   "metadata": {},
   "outputs": [],
   "source": [
    "chain = prompt | llm "
   ]
  },
  {
   "cell_type": "code",
   "execution_count": 19,
   "metadata": {},
   "outputs": [
    {
     "data": {
      "text/plain": [
       "' 현대카드는 지난해 당기순이익이 증가하였고, 연체율도 감소하였습니다. 이는 균형 잡힌 포트폴리오 운영과 선제적 리스크 관리, 그리고 애플페이 도입 등의 요인 때문입니다. 해외 결제액도 급증하였습니다.\\n\\nKEYWORDS: 1. 당기순이익 증가, 2. 연체율 감소, 3. 해외 결제액 급증\\n\\n1. 당기순이익 증가\\n   - 현대카드의 지난해 당기순이익은 2651억원으로, 전년 대비 4.3% 증가했습니다.\\n   - 이는 업황 악화에도 GPCC와 PLCC상품 전 영역의 균형 잡힌 포트폴리오를 통해 회원 수가 늘었고, 국내뿐 아니라 해외 신용판매 취급액이 급증한 결과입니다.\\n   - 실수요자 중심의 금융상품 운영과 선제적 리스크 관리로 3년 연속 업계 최저 수준의 0%대 연체율을 달성한 것도 영향을 미쳤습니다.\\n\\n2. 연체율 감소\\n   - 현대카드의 연체율은 지난해 기준 0.97%로, 전년(1.09%) 대비 0.12%포인트 하락했습니다.\\n   - 이는 실수요자 중심의 금융상품 운영과 선제적 리스크 관리 덕분입니다.\\n   - 현대카드의 연체율은 8개 전업카드사 중 유일하게 개선됐습니다.\\n\\n3. 해외 결제액 급증\\n   - 현대카드의 해외 결제액(개인 신용카드 회원 기준)은 지난해 2조 7258억원으로, 1년 전 1조 5593억원에서 75% 급증했습니다.\\n   - 이는 애플페이 도입 효과도 한몫했습니다.\\n   - 올해 1월 기준 현대카드 회원 수(본인 기준)는 1178만명으로, 8개 카드사 가운데 4위지만 회원 수 증가 폭은 가장 컸습니다.'"
      ]
     },
     "execution_count": 19,
     "metadata": {},
     "output_type": "execute_result"
    }
   ],
   "source": [
    "chain.invoke({\"context\":\"1일 8개 전업카드사(신한·삼성·KB국민·현대·롯데·우리·하나·비씨)의 경영공시에 따르면 현대카드의 지난해 당기순이익은 2651억원으로 전년 대비 4.3% 증가했다.\\n\"\n",
    "              \"반면 나머지 7개 카드사는 모두 순이익이 뒷걸음질쳤다.현대카드 관계자는 “업황 악화에도 GPCC와 PLCC상품 전 영역의 균형 잡힌 포트폴리오를 통해 회원 수가 늘었고, 국내뿐 아니라 해외 신용판매 취급액이 급증했다\\n\"\n",
    "              \"또한 실수요자 중심의 금융상품 운영과 선제적 리스크 관리로 3년 연속 업계 최저 수준의 0%대 연체율을 달성했다”고 설명했다.실제로 현대카드의 연체율은 8개 전업카드사 중 유일하게 개선됐다. \\n\"\n",
    "              \"현대카드의 지난해 기준 연체율은 0.97%로 전년(1.09%) 대비 0.12%포인트 하락했다. 애플페이 도입 효과도 한몫했다. 올해 1월 기준 현대카드 회원 수(본인 기준)는 1178만명 8개 카드사 가운데 4위지만 회원 수 증가 폭은 가장 컸다.\\n\"\n",
    "              \"현대카드의 해외 결제액(개인 신용카드 회원 기준)은 지난해 2조 7258억원으로, 1년 전 1조 5593억원에서 75% 급증했다.\"})\n"
   ]
  },
  {
   "cell_type": "markdown",
   "metadata": {},
   "source": [
    "## Hub Upload"
   ]
  },
  {
   "cell_type": "code",
   "execution_count": 22,
   "metadata": {},
   "outputs": [],
   "source": [
    "\n"
   ]
  },
  {
   "cell_type": "code",
   "execution_count": 45,
   "metadata": {},
   "outputs": [
    {
     "data": {
      "text/plain": [
       "PromptTemplate(input_variables=['context'], template='Please summarize the sentence according to the following REQUEST.\\nREQUEST:\\n1. Summarize the main points in bullet points.\\n2. Each summarized sentence must start with an emoji that fits the meaning of the each sentence.\\n3. Use various emojis to make the summary more interesting.\\n4. DO NOT include any unnecessary information.\\n\\nCONTEXT:\\n{context}\\n\\nSUMMARY:\"\\n')"
      ]
     },
     "execution_count": 45,
     "metadata": {},
     "output_type": "execute_result"
    }
   ],
   "source": [
    "from langchain import hub\n",
    "from langchain.prompts import PromptTemplate\n",
    "\n",
    "prompt_title = \"summary-test-documents\"\n",
    "\n",
    "# 요약문을 작성하기 위한 프롬프트 정의 (직접 프롬프트를 작성하는 경우)\n",
    "prompt_template = \"\"\"Please summarize the sentence according to the following REQUEST.\n",
    "REQUEST:\n",
    "1. Summarize the main points in bullet points.\n",
    "2. Each summarized sentence must start with an emoji that fits the meaning of the each sentence.\n",
    "3. Use various emojis to make the summary more interesting.\n",
    "4. DO NOT include any unnecessary information.\n",
    "\n",
    "CONTEXT:\n",
    "{context}\n",
    "\n",
    "SUMMARY:\"\n",
    "\"\"\"\n",
    "prompt = PromptTemplate.from_template(prompt_template)\n",
    "prompt"
   ]
  },
  {
   "cell_type": "code",
   "execution_count": 39,
   "metadata": {},
   "outputs": [],
   "source": [
    "PROMPT_OWNER = \"cowboy76\""
   ]
  },
  {
   "cell_type": "code",
   "execution_count": 42,
   "metadata": {},
   "outputs": [
    {
     "data": {
      "text/plain": [
       "True"
      ]
     },
     "execution_count": 42,
     "metadata": {},
     "output_type": "execute_result"
    }
   ],
   "source": [
    "import os\n",
    "from dotenv import load_dotenv\n",
    "\n",
    "load_dotenv()"
   ]
  },
  {
   "cell_type": "code",
   "execution_count": 43,
   "metadata": {},
   "outputs": [],
   "source": [
    "import os\n",
    "\n",
    "os.environ[\"LANGCHAIN_ENDPOINT\"] = \"https://api.smith.langchain.com\"\n"
   ]
  },
  {
   "cell_type": "code",
   "execution_count": 46,
   "metadata": {},
   "outputs": [
    {
     "data": {
      "text/plain": [
       "'https://smith.langchain.com/hub/cowboy76/summary-test-documents/ad16e24d'"
      ]
     },
     "execution_count": 46,
     "metadata": {},
     "output_type": "execute_result"
    }
   ],
   "source": [
    "hub.push(f\"{PROMPT_OWNER}/{prompt_title}\",  prompt)"
   ]
  },
  {
   "cell_type": "code",
   "execution_count": null,
   "metadata": {},
   "outputs": [],
   "source": []
  }
 ],
 "metadata": {
  "kernelspec": {
   "display_name": "llm",
   "language": "python",
   "name": "python3"
  },
  "language_info": {
   "codemirror_mode": {
    "name": "ipython",
    "version": 3
   },
   "file_extension": ".py",
   "mimetype": "text/x-python",
   "name": "python",
   "nbconvert_exporter": "python",
   "pygments_lexer": "ipython3",
   "version": "3.9.19"
  }
 },
 "nbformat": 4,
 "nbformat_minor": 2
}
