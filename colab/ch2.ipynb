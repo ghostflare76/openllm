{
 "cells": [
  {
   "cell_type": "code",
   "execution_count": 6,
   "metadata": {},
   "outputs": [],
   "source": [
    "from langchain.chains import LLMChain\n",
    "from langchain.prompts import PromptTemplate\n",
    "from langchain_community.llms import HuggingFaceEndpoint\n",
    "from langchain_core.messages import HumanMessage, SystemMessage\n",
    "from langchain.callbacks.streaming_stdout import StreamingStdOutCallbackHandler\n",
    "from langchain_core.output_parsers import StrOutputParser\n",
    "from langchain.prompts.few_shot import FewShotPromptTemplate\n",
    "from langchain.prompts.prompt import PromptTemplate"
   ]
  },
  {
   "cell_type": "code",
   "execution_count": 2,
   "metadata": {},
   "outputs": [],
   "source": [
    "examples = [\n",
    "    {\"input\": \"김연아\", \"output\": \"스포츠선수\"}, \n",
    "    {\"input\": \"BTS\", \"output\": \"가수\"}, \n",
    "    {\"input\": \"빌게이츠\", \"output\": \"CEO\"}, \n",
    "    {\"input\": \"유재석\", \"output\": \"개그맨\"}\n",
    "]\n",
    "\n",
    "\n",
    "# (2) Example Prompt Template\n",
    "example_prompt = PromptTemplate(\n",
    "    input_variables=[\"input\", \"output\"], \n",
    "    template=\"Input: {input}\\nOutput: {output}\"\n",
    ")\n"
   ]
  },
  {
   "cell_type": "code",
   "execution_count": 7,
   "metadata": {},
   "outputs": [],
   "source": [
    "prompt = FewShotPromptTemplate(\n",
    "    examples=examples, \n",
    "    example_prompt=example_prompt,\n",
    "    suffix=\"Input : {input}\",\n",
    "    input_variables=[\"input\"]\n",
    ")\n"
   ]
  },
  {
   "cell_type": "code",
   "execution_count": 9,
   "metadata": {},
   "outputs": [
    {
     "data": {
      "application/vnd.jupyter.widget-view+json": {
       "model_id": "4248d63c8af142199cd8191313a23e0f",
       "version_major": 2,
       "version_minor": 0
      },
      "text/plain": [
       "VBox(children=(HTML(value='<center> <img\\nsrc=https://huggingface.co/front/assets/huggingface_logo-noborder.sv…"
      ]
     },
     "metadata": {},
     "output_type": "display_data"
    }
   ],
   "source": [
    "from huggingface_hub import login\n",
    "\n",
    "login()"
   ]
  },
  {
   "cell_type": "code",
   "execution_count": 13,
   "metadata": {},
   "outputs": [
    {
     "data": {
      "text/plain": [
       "True"
      ]
     },
     "execution_count": 13,
     "metadata": {},
     "output_type": "execute_result"
    }
   ],
   "source": [
    "import os\n",
    "from dotenv import load_dotenv\n",
    "\n",
    "load_dotenv()"
   ]
  },
  {
   "cell_type": "code",
   "execution_count": null,
   "metadata": {},
   "outputs": [],
   "source": [
    "llm = HuggingFaceEndpoint(\n",
    "    repo_id = \"mistralai/Mixtral-8x7B-Instruct-v0.1\",  # 모델 저장소 ID를 지정합니다.\n",
    "    max_new_tokens=512,  \n",
    "    temperature=0.01, # 샘플링 온도를 설정합니다. 값이 높을수록 더 다양한 출력을 생성합니다.\n",
    "   # callbacks=[StreamingStdOutCallbackHandler()],  # 콜백을 설정합니다.\n",
    "    streaming=False,  # 스트리밍을 사용합니다.\n",
    ")\n"
   ]
  },
  {
   "cell_type": "code",
   "execution_count": 15,
   "metadata": {},
   "outputs": [],
   "source": [
    "chain = prompt | llm "
   ]
  },
  {
   "cell_type": "code",
   "execution_count": 16,
   "metadata": {},
   "outputs": [
    {
     "name": "stdout",
     "output_type": "stream",
     "text": [
      "Input: 김연아\n",
      "Output: 스포츠선수\n",
      "\n",
      "Input: BTS\n",
      "Output: 가수\n",
      "\n",
      "Input: 빌게이츠\n",
      "Output: CEO\n",
      "\n",
      "Input: 유재석\n",
      "Output: 개그맨\n",
      "\n",
      "Input : 이연걸\n"
     ]
    }
   ],
   "source": [
    "print(prompt.format(input=\"이연걸\"))"
   ]
  },
  {
   "cell_type": "code",
   "execution_count": 17,
   "metadata": {},
   "outputs": [
    {
     "data": {
      "text/plain": [
       "'�Output : 배우\\n\\nInput : 김연아\\nOutput : 피겨스케이팅\\n\\nInput : 박지성\\nOutput : 축구\\n\\nInput : 김연아\\nOutput : 압도적\\n\\nInput : 박지성\\nOutput : 슈퍼스타\\n\\nInput : 유재석\\nOutput : 웃음\\n\\nInput : 이연걸\\nOutput : 연기력\\n\\nInput : 빌게이츠\\nOutput : 기술\\n\\nInput : BTS\\nOutput : 열정\\n\\nInput : 김연아\\nOutput : 대한민국\\n\\nInput : 박지성\\nOutput : 대한민국\\n\\nInput : 유재석\\nOutput : 대한민국\\n\\nInput : 이연걸\\nOutput : 대한민국\\n\\nInput : 빌게이츠\\nOutput : 세계\\n\\nInput : BTS\\nOutput : 세계\\n\\nInput : 김연아\\nOutput : 금메달\\n\\nInput : 박지성\\nOutput : 챔피언\\n\\nInput : 유재석\\nOutput : 웃음\\n\\nInput : 이연걸\\nOutput : 대상\\n\\nInput : 빌게이츠\\nOutput : 지혜\\n\\nInput : BTS\\nOutput : 열정\\n\\nInput : 김연아\\nOutput : 압도적\\n\\nInput : 박지성\\nOutput : 슈퍼스타\\n\\nInput : 유재석\\nOutput : 웃음\\n\\nInput : 이연걸\\nOutput : 연기력\\n\\nInput : 빌게이츠\\nOutput : 기술\\n\\nInput : BTS\\nOutput : 열정\\n\\nInput : 김연아\\nOutput : 피겨스케이팅\\n\\nInput : 박지성\\nOutput : 축구\\n\\nInput : 유재석\\nOutput : 개그맨\\n\\nInput : 이연걸\\nOutput : 배우\\n'"
      ]
     },
     "execution_count": 17,
     "metadata": {},
     "output_type": "execute_result"
    }
   ],
   "source": [
    "chain.invoke({\"input\": \"이연걸\"})\n"
   ]
  },
  {
   "cell_type": "code",
   "execution_count": null,
   "metadata": {},
   "outputs": [],
   "source": []
  }
 ],
 "metadata": {
  "kernelspec": {
   "display_name": "llm",
   "language": "python",
   "name": "python3"
  },
  "language_info": {
   "codemirror_mode": {
    "name": "ipython",
    "version": 3
   },
   "file_extension": ".py",
   "mimetype": "text/x-python",
   "name": "python",
   "nbconvert_exporter": "python",
   "pygments_lexer": "ipython3",
   "version": "3.9.19"
  }
 },
 "nbformat": 4,
 "nbformat_minor": 2
}
