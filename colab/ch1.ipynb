{
 "cells": [
  {
   "cell_type": "code",
   "execution_count": 6,
   "metadata": {},
   "outputs": [],
   "source": [
    "from langchain.chains import LLMChain\n",
    "from langchain.prompts import PromptTemplate\n",
    "from langchain_community.llms import HuggingFaceEndpoint\n",
    "from langchain_core.messages import HumanMessage, SystemMessage\n",
    "from langchain.callbacks.streaming_stdout import StreamingStdOutCallbackHandler\n",
    "from langchain_core.output_parsers import StrOutputParser\n",
    "from langchain.prompts.few_shot import FewShotPromptTemplate\n",
    "from langchain.prompts.prompt import PromptTemplate"
   ]
  },
  {
   "cell_type": "code",
   "execution_count": 7,
   "metadata": {},
   "outputs": [
    {
     "data": {
      "text/plain": [
       "True"
      ]
     },
     "execution_count": 7,
     "metadata": {},
     "output_type": "execute_result"
    }
   ],
   "source": [
    "import os\n",
    "from dotenv import load_dotenv\n",
    "\n",
    "load_dotenv()"
   ]
  },
  {
   "cell_type": "code",
   "execution_count": 218,
   "metadata": {},
   "outputs": [
    {
     "name": "stdout",
     "output_type": "stream",
     "text": [
      "Token has not been saved to git credential helper. Pass `add_to_git_credential=True` if you want to set the git credential as well.\n",
      "Token is valid (permission: read).\n",
      "Your token has been saved to C:\\Users\\cowbo\\.cache\\huggingface\\token\n",
      "Login successful\n"
     ]
    }
   ],
   "source": [
    "llm = HuggingFaceEndpoint(\n",
    "    repo_id = \"mistralai/Mixtral-8x7B-Instruct-v0.1\",  # 모델 저장소 ID를 지정합니다.\n",
    "    #repo_id = \"mistralai/Mistral-7B-v0.1\",  # 모델 저장소 ID를 지정합니다.    \n",
    "    max_new_tokens=512,  \n",
    "    temperature=0.01, # 샘플링 온도를 설정합니다. 값이 높을수록 더 다양한 출력을 생성합니다.\n",
    "    callbacks=[StreamingStdOutCallbackHandler()],  # 콜백을 설정합니다.\n",
    "    streaming=True,  # 스트리밍을 사용합니다.\n",
    "   \n",
    ")\n"
   ]
  },
  {
   "cell_type": "code",
   "execution_count": 219,
   "metadata": {},
   "outputs": [],
   "source": [
    "from langchain.prompts import PromptTemplate\n",
    "prompt = PromptTemplate.from_template(\"{country}의 수도에 대해서 한글로 알려줘\")"
   ]
  },
  {
   "cell_type": "code",
   "execution_count": 220,
   "metadata": {},
   "outputs": [],
   "source": [
    "chain = prompt | llm "
   ]
  },
  {
   "cell_type": "code",
   "execution_count": 221,
   "metadata": {},
   "outputs": [
    {
     "name": "stdout",
     "output_type": "stream",
     "text": [
      "요\n",
      "\n",
      "대한민국의 수도는 서울입니다. 서울은 한국의 정치, 경제, 문화의 중심지로서 국내외적으로도 중요한 역할을 하고 있습니다. 서울은 한국의 역사와 문화가 풍부하여, 관광객들에게도 많은 관심을 받고 있습니다. 서울에는 유명한 관광지들이 많이 있으며, 그 중 일부는 궁전, 문화유적지, 공원, 미술관, 쇼핑몰 등이 있습니다. 또한 서울은 맛있는 음식도 많이 있어, 음식탐방도 서울에서 즐길 수 있습니다.</s>"
     ]
    },
    {
     "data": {
      "text/plain": [
       "'요\\n\\n대한민국의 수도는 서울입니다. 서울은 한국의 정치, 경제, 문화의 중심지로서 국내외적으로도 중요한 역할을 하고 있습니다. 서울은 한국의 역사와 문화가 풍부하여, 관광객들에게도 많은 관심을 받고 있습니다. 서울에는 유명한 관광지들이 많이 있으며, 그 중 일부는 궁전, 문화유적지, 공원, 미술관, 쇼핑몰 등이 있습니다. 또한 서울은 맛있는 음식도 많이 있어, 음식탐방도 서울에서 즐길 수 있습니다.</s>'"
      ]
     },
     "execution_count": 221,
     "metadata": {},
     "output_type": "execute_result"
    }
   ],
   "source": [
    "chain.invoke({\"country\":\"대한민국\"})\n"
   ]
  },
  {
   "cell_type": "markdown",
   "metadata": {},
   "source": [
    "## Runnable"
   ]
  },
  {
   "cell_type": "markdown",
   "metadata": {},
   "source": [
    "RunnablePassthrough"
   ]
  },
  {
   "cell_type": "code",
   "execution_count": 124,
   "metadata": {},
   "outputs": [],
   "source": [
    "from langchain_core.runnables import RunnablePassthrough\n",
    "from langchain_core.runnables import RunnableParallel\n",
    "from langchain_core.runnables import RunnableLambda"
   ]
  },
  {
   "cell_type": "code",
   "execution_count": 125,
   "metadata": {},
   "outputs": [],
   "source": [
    "chain = {\"country\": RunnablePassthrough()} | prompt | llm "
   ]
  },
  {
   "cell_type": "code",
   "execution_count": null,
   "metadata": {},
   "outputs": [],
   "source": [
    "chain.invoke(\"미국\")"
   ]
  },
  {
   "cell_type": "markdown",
   "metadata": {},
   "source": [
    "RunnableParallel"
   ]
  },
  {
   "cell_type": "code",
   "execution_count": 222,
   "metadata": {},
   "outputs": [],
   "source": [
    "prompt1 = PromptTemplate.from_template(\"ETF 상품인 {stock}의 분기별 배당월에 대해서 한글로 알려줘\")\n",
    "prompt2 = PromptTemplate.from_template(\"ETF 상품인 {stock}의 보유 비중 top 10 기업에 대해서 한글로 알려줘\")\n",
    "\n",
    "chain1 = {\"stock\": RunnablePassthrough()} | prompt1 | llm \n",
    "chain2 = {\"stock\": RunnablePassthrough()} | prompt2 | llm \n",
    "\n"
   ]
  },
  {
   "cell_type": "code",
   "execution_count": 223,
   "metadata": {},
   "outputs": [
    {
     "name": "stdout",
     "output_type": "stream",
     "text": [
      " 주세요.\n",
      "\n",
      "SCHD는 주요 업계 선도적인 회사들로 구성된 배당성 강화 전략 ETF입니다. 이 ETF는 매 분기 마지막 주말에 배당을 지불하며, 다음은 분기별 배당 지불 날짜입니다.\n",
      "\n",
      "* 1분기: 3월 말\n",
      "* 2분기: 6월 말\n",
      "* 3분기: 9월 말\n",
      "* 4분기: 12월 말\n",
      "\n",
      "따라서, SCHD ETF는 매년 4번 배당을 지불하며, 각 분기 마지막 주말에 배당을 지불합니다.</s>"
     ]
    },
    {
     "data": {
      "text/plain": [
       "' 주세요.\\n\\nSCHD는 주요 업계 선도적인 회사들로 구성된 배당성 강화 전략 ETF입니다. 이 ETF는 매 분기 마지막 주말에 배당을 지불하며, 다음은 분기별 배당 지불 날짜입니다.\\n\\n* 1분기: 3월 말\\n* 2분기: 6월 말\\n* 3분기: 9월 말\\n* 4분기: 12월 말\\n\\n따라서, SCHD ETF는 매년 4번 배당을 지불하며, 각 분기 마지막 주말에 배당을 지불합니다.</s>'"
      ]
     },
     "execution_count": 223,
     "metadata": {},
     "output_type": "execute_result"
    }
   ],
   "source": [
    "chain1.invoke(\"SCHD\")"
   ]
  },
  {
   "cell_type": "code",
   "execution_count": 224,
   "metadata": {},
   "outputs": [
    {
     "name": "stdout",
     "output_type": "stream",
     "text": [
      "요\n",
      "\n",
      "SCHD는 하이 다이�İ브İ드 디İ버İ펜스 전략을 기반으로 한 배당지수 ETF입니다. 이 ETF는 미국 주식시장의 상위 400개 회사 중 가장 안정적이고 지속적인 배당을 내는 회사들을 선택하여 투자합니다.\n",
      "\n",
      "SCHD의 상위 10개 보유 기업은 다음과 같습니다.\n",
      "\n",
      "1. Microsoft (MSFT)\n",
      "2. Johnson & Johnson (JNJ)\n",
      "3. JPMorgan Chase (JPM)\n",
      "4. Visa (V)\n",
      "5. Procter & Gamble (PG)\n",
      "6. Coca-Cola (KO)\n",
      "7. PepsiCo (PEP)\n",
      "8. Verizon Communications (VZ)\n",
      "9. The Home Depot (HD)\n",
      "10. Realty Income Corporation (O)\n",
      "\n",
      "이 기업들은 모두 미국 주요 산업의 선도적인 기업으로, 안정적인 수익성과 지속적인 배당을 보여줍니다.</s>"
     ]
    },
    {
     "data": {
      "text/plain": [
       "'요\\n\\nSCHD는 하이 다이�İ브İ드 디İ버İ펜스 전략을 기반으로 한 배당지수 ETF입니다. 이 ETF는 미국 주식시장의 상위 400개 회사 중 가장 안정적이고 지속적인 배당을 내는 회사들을 선택하여 투자합니다.\\n\\nSCHD의 상위 10개 보유 기업은 다음과 같습니다.\\n\\n1. Microsoft (MSFT)\\n2. Johnson & Johnson (JNJ)\\n3. JPMorgan Chase (JPM)\\n4. Visa (V)\\n5. Procter & Gamble (PG)\\n6. Coca-Cola (KO)\\n7. PepsiCo (PEP)\\n8. Verizon Communications (VZ)\\n9. The Home Depot (HD)\\n10. Realty Income Corporation (O)\\n\\n이 기업들은 모두 미국 주요 산업의 선도적인 기업으로, 안정적인 수익성과 지속적인 배당을 보여줍니다.</s>'"
      ]
     },
     "execution_count": 224,
     "metadata": {},
     "output_type": "execute_result"
    }
   ],
   "source": [
    "chain2.invoke(\"SCHD\")"
   ]
  },
  {
   "cell_type": "code",
   "execution_count": 225,
   "metadata": {},
   "outputs": [],
   "source": [
    "combined_chain = RunnableParallel(a=chain1, b=chain2)\n"
   ]
  },
  {
   "cell_type": "code",
   "execution_count": null,
   "metadata": {},
   "outputs": [],
   "source": [
    "combined_chain.invoke(\"SCHD\")"
   ]
  },
  {
   "cell_type": "code",
   "execution_count": 227,
   "metadata": {},
   "outputs": [],
   "source": [
    "def combine_text(text):\n",
    "    return text[\"a\"] + \",\" + text[\"b\"]"
   ]
  },
  {
   "cell_type": "code",
   "execution_count": null,
   "metadata": {},
   "outputs": [],
   "source": [
    "final_chain = combined_chain | {\"info\" : RunnableLambda(combine_text)} | PromptTemplate.from_template(\"{info}의 내용을 자연스럽게 연결후 한글로 작성해줘 \\n \") | llm\n",
    "final_chain.invoke(\"SCHD\")"
   ]
  },
  {
   "cell_type": "code",
   "execution_count": null,
   "metadata": {},
   "outputs": [],
   "source": []
  }
 ],
 "metadata": {
  "kernelspec": {
   "display_name": "llm",
   "language": "python",
   "name": "python3"
  },
  "language_info": {
   "codemirror_mode": {
    "name": "ipython",
    "version": 3
   },
   "file_extension": ".py",
   "mimetype": "text/x-python",
   "name": "python",
   "nbconvert_exporter": "python",
   "pygments_lexer": "ipython3",
   "version": "3.9.19"
  }
 },
 "nbformat": 4,
 "nbformat_minor": 2
}
