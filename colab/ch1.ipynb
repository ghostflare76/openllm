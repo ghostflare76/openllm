{
 "cells": [
  {
   "cell_type": "code",
   "execution_count": 6,
   "metadata": {},
   "outputs": [],
   "source": [
    "from langchain.chains import LLMChain\n",
    "from langchain.prompts import PromptTemplate\n",
    "from langchain_community.llms import HuggingFaceEndpoint\n",
    "from langchain_core.messages import HumanMessage, SystemMessage\n",
    "from langchain.callbacks.streaming_stdout import StreamingStdOutCallbackHandler\n",
    "from langchain_core.output_parsers import StrOutputParser\n",
    "from langchain.prompts.few_shot import FewShotPromptTemplate\n",
    "from langchain.prompts.prompt import PromptTemplate"
   ]
  },
  {
   "cell_type": "code",
   "execution_count": 7,
   "metadata": {},
   "outputs": [
    {
     "data": {
      "text/plain": [
       "True"
      ]
     },
     "execution_count": 7,
     "metadata": {},
     "output_type": "execute_result"
    }
   ],
   "source": [
    "import os\n",
    "from dotenv import load_dotenv\n",
    "\n",
    "load_dotenv()"
   ]
  },
  {
   "cell_type": "code",
   "execution_count": 248,
   "metadata": {},
   "outputs": [
    {
     "name": "stdout",
     "output_type": "stream",
     "text": [
      "Token has not been saved to git credential helper. Pass `add_to_git_credential=True` if you want to set the git credential as well.\n",
      "Token is valid (permission: read).\n",
      "Your token has been saved to C:\\Users\\cowbo\\.cache\\huggingface\\token\n",
      "Login successful\n"
     ]
    }
   ],
   "source": [
    "llm = HuggingFaceEndpoint(\n",
    "    repo_id = \"mistralai/Mixtral-8x7B-Instruct-v0.1\",  # 모델 저장소 ID를 지정합니다.\n",
    "    #repo_id = \"mistralai/Mistral-7B-v0.1\",  # 모델 저장소 ID를 지정합니다.    \n",
    "    max_new_tokens=128,  \n",
    "    temperature=0.01, # 샘플링 온도를 설정합니다. 값이 높을수록 더 다양한 출력을 생성합니다.\n",
    "    callbacks=[StreamingStdOutCallbackHandler()],  # 콜백을 설정합니다.\n",
    "    streaming=True,  # 스트리밍을 사용합니다.\n",
    "   \n",
    ")\n"
   ]
  },
  {
   "cell_type": "code",
   "execution_count": 233,
   "metadata": {},
   "outputs": [],
   "source": [
    "from langchain.prompts import PromptTemplate\n",
    "prompt = PromptTemplate.from_template(\"{country}의 수도에 대해서 한글로 알려줘\")"
   ]
  },
  {
   "cell_type": "code",
   "execution_count": 234,
   "metadata": {},
   "outputs": [],
   "source": [
    "chain = prompt | llm "
   ]
  },
  {
   "cell_type": "code",
   "execution_count": null,
   "metadata": {},
   "outputs": [],
   "source": [
    "chain.invoke({\"country\":\"대한민국\"})\n"
   ]
  },
  {
   "cell_type": "markdown",
   "metadata": {},
   "source": [
    "## Runnable"
   ]
  },
  {
   "cell_type": "markdown",
   "metadata": {},
   "source": [
    "RunnablePassthrough"
   ]
  },
  {
   "cell_type": "code",
   "execution_count": 124,
   "metadata": {},
   "outputs": [],
   "source": [
    "from langchain_core.runnables import RunnablePassthrough\n",
    "from langchain_core.runnables import RunnableParallel\n",
    "from langchain_core.runnables import RunnableLambda"
   ]
  },
  {
   "cell_type": "code",
   "execution_count": 125,
   "metadata": {},
   "outputs": [],
   "source": [
    "chain = {\"country\": RunnablePassthrough()} | prompt | llm "
   ]
  },
  {
   "cell_type": "code",
   "execution_count": null,
   "metadata": {},
   "outputs": [],
   "source": [
    "chain.invoke(\"미국\")"
   ]
  },
  {
   "cell_type": "markdown",
   "metadata": {},
   "source": [
    "RunnableParallel"
   ]
  },
  {
   "cell_type": "code",
   "execution_count": 255,
   "metadata": {},
   "outputs": [],
   "source": [
    "prompt1 = PromptTemplate.from_template(\"ETF 상품인 {stock}의 운용사를 한글로 알려주고 다른 내용은 생략해 \")\n",
    "prompt2 = PromptTemplate.from_template(\"ETF 상품인 {stock}의 년 운용보수를 한글로 알려주고 다른 내용은 생략해\")\n",
    "\n",
    "chain1 = {\"stock\": RunnablePassthrough()} | prompt1 | llm \n",
    "chain2 = {\"stock\": RunnablePassthrough()} | prompt2 | llm \n",
    "\n"
   ]
  },
  {
   "cell_type": "code",
   "execution_count": 256,
   "metadata": {},
   "outputs": [
    {
     "name": "stdout",
     "output_type": "stream",
     "text": [
      "주세요.\n",
      "\n",
      "The issuer of SCHD is Schwab U.S. Dividend Equity ETF Trust.</s>"
     ]
    },
    {
     "data": {
      "text/plain": [
       "'주세요.\\n\\nThe issuer of SCHD is Schwab U.S. Dividend Equity ETF Trust.</s>'"
      ]
     },
     "execution_count": 256,
     "metadata": {},
     "output_type": "execute_result"
    }
   ],
   "source": [
    "chain1.invoke(\"SCHD\")"
   ]
  },
  {
   "cell_type": "code",
   "execution_count": 257,
   "metadata": {},
   "outputs": [
    {
     "name": "stdout",
     "output_type": "stream",
     "text": [
      "주세요.\n",
      "\n",
      "The annual operating expense ratio for the Schwab U.S. Dividend Equity ETF (SCHD) is 0.06%.</s>"
     ]
    },
    {
     "data": {
      "text/plain": [
       "'주세요.\\n\\nThe annual operating expense ratio for the Schwab U.S. Dividend Equity ETF (SCHD) is 0.06%.</s>'"
      ]
     },
     "execution_count": 257,
     "metadata": {},
     "output_type": "execute_result"
    }
   ],
   "source": [
    "chain2.invoke(\"SCHD\")"
   ]
  },
  {
   "cell_type": "code",
   "execution_count": 258,
   "metadata": {},
   "outputs": [],
   "source": [
    "combined_chain = RunnableParallel(a=chain1, b=chain2)\n"
   ]
  },
  {
   "cell_type": "code",
   "execution_count": 259,
   "metadata": {},
   "outputs": [
    {
     "name": "stdout",
     "output_type": "stream",
     "text": [
      "주세요.주\n",
      "세\n",
      "요The. annual\n",
      " operating\n",
      " expenseThe ratio iss foruer of the S SchwabCHD U. is SchwSab. U. DSivid.end Divid Equendity E EquTFity E (TFS TrustCHD.)</s> is 0.06%.</s>"
     ]
    },
    {
     "data": {
      "text/plain": [
       "{'a': '주세요.\\n\\nThe issuer of SCHD is Schwab U.S. Dividend Equity ETF Trust.</s>',\n",
       " 'b': '주세요.\\n\\nThe annual operating expense ratio for the Schwab U.S. Dividend Equity ETF (SCHD) is 0.06%.</s>'}"
      ]
     },
     "execution_count": 259,
     "metadata": {},
     "output_type": "execute_result"
    }
   ],
   "source": [
    "combined_chain.invoke(\"SCHD\")"
   ]
  },
  {
   "cell_type": "code",
   "execution_count": 260,
   "metadata": {},
   "outputs": [],
   "source": [
    "def combine_text(text):\n",
    "    return text[\"a\"] + \",\" + text[\"b\"]"
   ]
  },
  {
   "cell_type": "code",
   "execution_count": 261,
   "metadata": {},
   "outputs": [
    {
     "name": "stdout",
     "output_type": "stream",
     "text": [
      "주주세세요.요\n",
      ".\n",
      "\n",
      "The\n",
      " annualThe operating issuer expense ratio of for SCH theD Schwab is Schw U.ab US..S D.ividend D Equividityend E EquTF (ityS ECHTFD) Trust is.</s> 0.06%.</s>\n",
      "The Schwab U.S. Dividend Equity ETF Trust, which is the issuer of SCHD, charges an annual operating expense ratio of 0.06%.</s>"
     ]
    },
    {
     "data": {
      "text/plain": [
       "'\\nThe Schwab U.S. Dividend Equity ETF Trust, which is the issuer of SCHD, charges an annual operating expense ratio of 0.06%.</s>'"
      ]
     },
     "execution_count": 261,
     "metadata": {},
     "output_type": "execute_result"
    }
   ],
   "source": [
    "final_chain = combined_chain | {\"info\" : RunnableLambda(combine_text)} | PromptTemplate.from_template(\"{info}의 내용을 자연스럽게 연결해줘 \\n \") | llm\n",
    "final_chain.invoke(\"SCHD\")"
   ]
  },
  {
   "cell_type": "code",
   "execution_count": null,
   "metadata": {},
   "outputs": [],
   "source": []
  }
 ],
 "metadata": {
  "kernelspec": {
   "display_name": "llm",
   "language": "python",
   "name": "python3"
  },
  "language_info": {
   "codemirror_mode": {
    "name": "ipython",
    "version": 3
   },
   "file_extension": ".py",
   "mimetype": "text/x-python",
   "name": "python",
   "nbconvert_exporter": "python",
   "pygments_lexer": "ipython3",
   "version": "3.9.19"
  }
 },
 "nbformat": 4,
 "nbformat_minor": 2
}
